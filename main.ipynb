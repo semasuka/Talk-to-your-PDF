{
 "cells": [
  {
   "cell_type": "code",
   "execution_count": 7,
   "metadata": {},
   "outputs": [],
   "source": [
    "import import_ipynb, glob, openai, os, re\n",
    "from intent_service import process_user_question\n",
    "from information_retrieval_service import process_retrieval\n",
    "from response_service import process_respond"
   ]
  },
  {
   "cell_type": "code",
   "execution_count": 8,
   "metadata": {},
   "outputs": [],
   "source": [
    "def main():\n",
    "    # call process_user_question from intent_service notebook\n",
    "    preprocessed_question, pdf_file_path, original_question = process_user_question()\n",
    "    # call process_retrieval from information_retrieval_service notebook\n",
    "    retrieved_raw_info = process_retrieval(preprocessed_question, pdf_file_path)\n",
    "    # call process_respond from response_service notebook\n",
    "    retrieved_clean_info = process_respond(retrieved_raw_info, preprocessed_question)\n",
    "    print(\"\\n\")\n",
    "    print(\"*\"*100)\n",
    "    print(\"\\n\")\n",
    "    print(\"Question: \" + original_question)\n",
    "    print(\"\\n\")\n",
    "    # print retrieved_clean_info\n",
    "    print(\"Answer: \" + retrieved_clean_info)\n",
    "    print(\"\\n\")\n",
    "\n"
   ]
  },
  {
   "cell_type": "code",
   "execution_count": 9,
   "metadata": {},
   "outputs": [
    {
     "name": "stdout",
     "output_type": "stream",
     "text": [
      "preliminary preprocessing completed...\n",
      "No malicious intent detected...\n",
      "Text extracted from the PDF...\n",
      "0.4919166820548312\n",
      "The question is related to the PDF and not flagged. We can proceed...\n",
      "Question processed successfully...\n",
      "\n",
      "\n",
      "******************************************************************************************************************************************************\n",
      "\n",
      "\n",
      "Question: What is the main objective of Canada's national digital talent strategy as outlined in the PDF?\n",
      "\n",
      "\n",
      "Answer: The main object of Canada's National Digital Talent Strategy, as outlined in the document titled \"Digital Talent Road to 2020 and Beyond\", is to develop Canada’s talent in the global digital economy. This strategy encompasses several key initiatives aimed at enhancing Canada's digital workforce to boost both the economy and societal benefits. The strategy outlines seven primary objectives:\n",
      "\n",
      "1. Nurturing a strong youth talent pipeline to prepare the younger generation for digital economy roles.\n",
      "2. Leveraging Canada’s diverse talent by ensuring inclusivity and diversity in the digital workforce.\n",
      "3. Supporting workforce upskilling to enhance digital adoption across all sectors of the economy.\n",
      "4. Attracting and retaining global digital talent to ensure Canada remains competitive on the international stage.\n",
      "5. Strengthening digital literacy and digital skills for all Canadians to ensure widespread digital competence.\n",
      "6. Fostering digital entrepreneurship as a means to innovate and drive economic growth.\n",
      "7. Building labour mobility pathways to fill high-demand occupations, ensuring that the digital economy has the skilled workforce it needs.\n",
      "\n",
      "These objectives are aimed at creating a comprehensive approach to bolster Canada's position in the global digital economy through targeted investments in education, skill development, inclusivity, and entrepreneurship.\n",
      "\n",
      "\n"
     ]
    }
   ],
   "source": [
    "# run main\n",
    "if __name__ == \"__main__\":\n",
    "    main()"
   ]
  },
  {
   "cell_type": "code",
   "execution_count": null,
   "metadata": {},
   "outputs": [],
   "source": []
  }
 ],
 "metadata": {
  "kernelspec": {
   "display_name": "Python 3",
   "language": "python",
   "name": "python3"
  },
  "language_info": {
   "codemirror_mode": {
    "name": "ipython",
    "version": 3
   },
   "file_extension": ".py",
   "mimetype": "text/x-python",
   "name": "python",
   "nbconvert_exporter": "python",
   "pygments_lexer": "ipython3",
   "version": "3.11.7"
  }
 },
 "nbformat": 4,
 "nbformat_minor": 2
}
