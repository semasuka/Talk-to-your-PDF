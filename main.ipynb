{
 "cells": [
  {
   "cell_type": "code",
   "execution_count": 7,
   "metadata": {},
   "outputs": [],
   "source": [
    "import import_ipynb, glob, openai, os\n",
    "from intent_service import process_user_question\n",
    "from information_retrieval_service import process_retrieval\n",
    "from response_service import process_respond"
   ]
  },
  {
   "cell_type": "code",
   "execution_count": 8,
   "metadata": {},
   "outputs": [],
   "source": [
    "def main():\n",
    "    # call process_user_question from intent_service notebook\n",
    "    preprocessed_question, pdf_file_path, original_question = process_user_question()\n",
    "    # call process_retrieval from information_retrieval_service notebook\n",
    "    retrieved_raw_info = process_retrieval(preprocessed_question, pdf_file_path)\n",
    "    # call process_respond from response_service notebook\n",
    "    retrieved_clean_info = process_respond(retrieved_raw_info, preprocessed_question)\n",
    "    print(\"\\n\")\n",
    "    print(\"*\"*100)\n",
    "    print(\"\\n\")\n",
    "    print(\"Question: \" + original_question)\n",
    "    print(\"\\n\")\n",
    "    # print retrieved_clean_info\n",
    "    print(\"Answer: \" + retrieved_clean_info)\n",
    "    print(\"\\n\")\n",
    "\n"
   ]
  },
  {
   "cell_type": "code",
   "execution_count": 9,
   "metadata": {},
   "outputs": [
    {
     "name": "stdout",
     "output_type": "stream",
     "text": [
      "preliminary preprocessing completed...\n",
      "No malicious intent detected...\n",
      "Text extracted from the PDF...\n",
      "0.4919166820548312\n",
      "The question is related to the PDF and not flagged. We can proceed...\n",
      "Question processed successfully...\n",
      "\n",
      "\n",
      "The main object of Canada's National Digital Talent Strategy, as outlined in the document \"DIGITAL TALENT ROAD TO 2020 AND BEYOND,\" is to develop Canada’s talent within a global digital economy. The strategy is designed to address themes, trends, challenges, and opportunities in Canada's digital economy, focusing on digital adoption, education and skills, and the supply of talent. The strategy aims to benefit the economy and society through seven key actions:\n",
      "\n",
      "1. **Nurturing a Strong Youth Talent Pipeline** - Focus on educating and preparing the younger generation for digital economy demands.\n",
      "\n",
      "2. **Leveraging Canada’s Diverse Talent** - Make use of the wide range of skills and perspectives offered by Canada's multicultural society.\n",
      "\n",
      "3. **Supporting Workforce Upskilling to Enhance Digital Adoption** - Provide current workers with the training necessary to thrive in an increasingly digital work environment.\n",
      "\n",
      "4. **Attracting and Retaining Global Digital Talent** - Ensure Canada remains an attractive destination for the world’s leading digital professionals.\n",
      "\n",
      "5. **Strengthening Digital Literacy and Digital Skills for Canadians** - Ensure all Canadians have the skills needed to participate in the digital economy.\n",
      "\n",
      "6. **Fostering Digital Entrepreneurship** - Encourage the creation of new digital businesses and innovation within the digital space.\n",
      "\n",
      "7. **Building Labour Mobility Pathways to Fill High Demand Occupations** - Make it easier for skilled individuals to move into key areas where they are needed most within Canada’s economy.\n",
      "\n",
      "In summary, the main object of the strategy is to foster a comprehensive approach to developing and attracting digital talent, essential for maintaining and enhancing Canada’s position in the global digital economy.\n"
     ]
    }
   ],
   "source": [
    "# run main\n",
    "if __name__ == \"__main__\":\n",
    "    main()"
   ]
  },
  {
   "cell_type": "code",
   "execution_count": null,
   "metadata": {},
   "outputs": [],
   "source": []
  }
 ],
 "metadata": {
  "kernelspec": {
   "display_name": "Python 3",
   "language": "python",
   "name": "python3"
  },
  "language_info": {
   "codemirror_mode": {
    "name": "ipython",
    "version": 3
   },
   "file_extension": ".py",
   "mimetype": "text/x-python",
   "name": "python",
   "nbconvert_exporter": "python",
   "pygments_lexer": "ipython3",
   "version": "3.11.7"
  }
 },
 "nbformat": 4,
 "nbformat_minor": 2
}
