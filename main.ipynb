{
 "cells": [
  {
   "cell_type": "code",
   "execution_count": 4,
   "metadata": {},
   "outputs": [],
   "source": [
    "import import_ipynb, glob, openai, os\n",
    "from intent_service import process_user_question\n",
    "from information_retrieval_service import process_retrieval\n",
    "from response_service import process_respond"
   ]
  },
  {
   "cell_type": "code",
   "execution_count": 5,
   "metadata": {},
   "outputs": [],
   "source": [
    "def main():\n",
    "    # call process_user_question from intent_service notebook\n",
    "    preprocessed_question, pdf_file_path = process_user_question()\n",
    "    # call process_retrieval from information_retrieval_service notebook\n",
    "    retrieved_raw_info = process_retrieval(preprocessed_question, pdf_file_path)\n",
    "    # call process_respond from response_service notebook\n",
    "    retrieved_clean_info = process_respond(retrieved_raw_info, preprocessed_question)\n",
    "    print(\"\\n\")\n",
    "    # print retrieved_clean_info\n",
    "    print(retrieved_clean_info)\n",
    "\n"
   ]
  },
  {
   "cell_type": "code",
   "execution_count": 6,
   "metadata": {},
   "outputs": [
    {
     "name": "stdout",
     "output_type": "stream",
     "text": [
      "preliminary preprocessing completed...\n",
      "No malicious intent detected...\n",
      "Text extracted from the PDF...\n",
      "0.09589077513014604\n",
      "The question is not related to the PDF nor flagged. Please try a different question...\n",
      "Please try a different question...\n",
      "preliminary preprocessing completed...\n",
      "No malicious intent detected...\n",
      "Text extracted from the PDF...\n",
      "0.3140952576866136\n",
      "The question is not related to the PDF nor flagged. Please try a different question...\n",
      "Please try a different question...\n",
      "preliminary preprocessing completed...\n",
      "No malicious intent detected...\n",
      "Text extracted from the PDF...\n",
      "0.1517143845200453\n",
      "The question is not related to the PDF nor flagged. Please try a different question...\n",
      "Please try a different question...\n",
      "preliminary preprocessing completed...\n",
      "No malicious intent detected...\n",
      "Text extracted from the PDF...\n",
      "0.1403878314711544\n",
      "The question is not related to the PDF nor flagged. Please try a different question...\n",
      "Please try a different question...\n",
      "preliminary preprocessing completed...\n",
      "No malicious intent detected...\n",
      "Text extracted from the PDF...\n",
      "0.34656595473254215\n",
      "The question is not related to the PDF nor flagged. Please try a different question...\n",
      "Please try a different question...\n",
      "preliminary preprocessing completed...\n",
      "No malicious intent detected...\n",
      "Text extracted from the PDF...\n",
      "0.01406958223969889\n",
      "The question is not related to the PDF nor flagged. Please try a different question...\n",
      "Please try a different question...\n",
      "preliminary preprocessing completed...\n",
      "No malicious intent detected...\n",
      "Text extracted from the PDF...\n",
      "0.1471984513797219\n",
      "The question is not related to the PDF nor flagged. Please try a different question...\n",
      "Please try a different question...\n",
      "preliminary preprocessing completed...\n",
      "No malicious intent detected...\n",
      "Text extracted from the PDF...\n",
      "0.17984631681917426\n",
      "The question is not related to the PDF nor flagged. Please try a different question...\n",
      "Please try a different question...\n",
      "preliminary preprocessing completed...\n",
      "No malicious intent detected...\n",
      "Text extracted from the PDF...\n",
      "0.14493881501343625\n",
      "The question is not related to the PDF nor flagged. Please try a different question...\n",
      "Please try a different question...\n",
      "preliminary preprocessing completed...\n",
      "No malicious intent detected...\n",
      "Text extracted from the PDF...\n",
      "0.01406958223969889\n",
      "The question is not related to the PDF nor flagged. Please try a different question...\n",
      "Please try a different question...\n",
      "preliminary preprocessing completed...\n",
      "No malicious intent detected...\n",
      "Text extracted from the PDF...\n",
      "0.13334393247607773\n",
      "The question is not related to the PDF nor flagged. Please try a different question...\n",
      "Please try a different question...\n",
      "preliminary preprocessing completed...\n",
      "No malicious intent detected...\n",
      "Text extracted from the PDF...\n",
      "0.011255633462947948\n",
      "The question is not related to the PDF nor flagged. Please try a different question...\n",
      "Please try a different question...\n",
      "preliminary preprocessing completed...\n",
      "No malicious intent detected...\n",
      "Text extracted from the PDF...\n",
      "0.011950826677016881\n",
      "The question is not related to the PDF nor flagged. Please try a different question...\n",
      "Please try a different question...\n",
      "preliminary preprocessing completed...\n",
      "No malicious intent detected...\n",
      "Text extracted from the PDF...\n",
      "0.0\n",
      "The question is not related to the PDF nor flagged. Please try a different question...\n",
      "Please try a different question...\n",
      "preliminary preprocessing completed...\n",
      "No malicious intent detected...\n",
      "Text extracted from the PDF...\n",
      "0.14882545456428756\n",
      "The question is not related to the PDF nor flagged. Please try a different question...\n",
      "Please try a different question...\n",
      "Exiting... Thank you for using the system.\n",
      "No question was preprocessed.\n"
     ]
    },
    {
     "ename": "TypeError",
     "evalue": "cannot unpack non-iterable NoneType object",
     "output_type": "error",
     "traceback": [
      "\u001b[0;31m---------------------------------------------------------------------------\u001b[0m",
      "\u001b[0;31mTypeError\u001b[0m                                 Traceback (most recent call last)",
      "Cell \u001b[0;32mIn[6], line 3\u001b[0m\n\u001b[1;32m      1\u001b[0m \u001b[38;5;66;03m# run main\u001b[39;00m\n\u001b[1;32m      2\u001b[0m \u001b[38;5;28;01mif\u001b[39;00m \u001b[38;5;18m__name__\u001b[39m \u001b[38;5;241m==\u001b[39m \u001b[38;5;124m\"\u001b[39m\u001b[38;5;124m__main__\u001b[39m\u001b[38;5;124m\"\u001b[39m:\n\u001b[0;32m----> 3\u001b[0m     main()\n",
      "Cell \u001b[0;32mIn[5], line 3\u001b[0m, in \u001b[0;36mmain\u001b[0;34m()\u001b[0m\n\u001b[1;32m      1\u001b[0m \u001b[38;5;28;01mdef\u001b[39;00m \u001b[38;5;21mmain\u001b[39m():\n\u001b[1;32m      2\u001b[0m     \u001b[38;5;66;03m# call process_user_question from intent_service notebook\u001b[39;00m\n\u001b[0;32m----> 3\u001b[0m     preprocessed_question, pdf_file_path \u001b[38;5;241m=\u001b[39m process_user_question()\n\u001b[1;32m      4\u001b[0m     \u001b[38;5;66;03m# call process_retrieval from information_retrieval_service notebook\u001b[39;00m\n\u001b[1;32m      5\u001b[0m     retrieved_raw_info \u001b[38;5;241m=\u001b[39m process_retrieval(preprocessed_question, pdf_file_path)\n",
      "\u001b[0;31mTypeError\u001b[0m: cannot unpack non-iterable NoneType object"
     ]
    }
   ],
   "source": [
    "# run main\n",
    "if __name__ == \"__main__\":\n",
    "    main()"
   ]
  },
  {
   "cell_type": "code",
   "execution_count": null,
   "metadata": {},
   "outputs": [],
   "source": []
  }
 ],
 "metadata": {
  "kernelspec": {
   "display_name": "Python 3",
   "language": "python",
   "name": "python3"
  },
  "language_info": {
   "codemirror_mode": {
    "name": "ipython",
    "version": 3
   },
   "file_extension": ".py",
   "mimetype": "text/x-python",
   "name": "python",
   "nbconvert_exporter": "python",
   "pygments_lexer": "ipython3",
   "version": "3.11.7"
  }
 },
 "nbformat": 4,
 "nbformat_minor": 2
}
