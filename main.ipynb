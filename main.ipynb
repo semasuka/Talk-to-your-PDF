{
 "cells": [
  {
   "cell_type": "code",
   "execution_count": 7,
   "metadata": {},
   "outputs": [],
   "source": [
    "import import_ipynb, glob, openai, os, re\n",
    "from intent_service import process_user_question\n",
    "from information_retrieval_service import process_retrieval\n",
    "from response_service import process_respond"
   ]
  },
  {
   "cell_type": "code",
   "execution_count": 8,
   "metadata": {},
   "outputs": [],
   "source": [
    "def main():\n",
    "    # call process_user_question from intent_service notebook\n",
    "    preprocessed_question, pdf_file_path, original_question = process_user_question()\n",
    "    # call process_retrieval from information_retrieval_service notebook\n",
    "    retrieved_raw_info = process_retrieval(preprocessed_question, pdf_file_path)\n",
    "    # call process_respond from response_service notebook\n",
    "    retrieved_clean_info = process_respond(retrieved_raw_info, preprocessed_question)\n",
    "    print(\"\\n\")\n",
    "    print(\"*\"*10)\n",
    "    print(\"\\n\")\n",
    "    print(\"Question: \" + original_question)\n",
    "    print(\"\\n\")\n",
    "    # print retrieved_clean_info\n",
    "    print(\"Answer: \" + retrieved_clean_info)\n",
    "    print(\"\\n\")\n",
    "\n"
   ]
  },
  {
   "cell_type": "code",
   "execution_count": 9,
   "metadata": {},
   "outputs": [
    {
     "name": "stdout",
     "output_type": "stream",
     "text": [
      "preliminary preprocessing completed...\n",
      "ModerationCreateResponse(id='modr-8nzyVNRxnJteby5muLFjmwgp5Q9O9', model='text-moderation-007', results=[Moderation(categories=Categories(harassment=False, harassment_threatening=False, hate=False, hate_threatening=False, self_harm=False, self_harm_instructions=False, self_harm_intent=False, sexual=False, sexual_minors=False, violence=True, violence_graphic=False, self-harm=False, sexual/minors=False, hate/threatening=False, violence/graphic=False, self-harm/intent=False, self-harm/instructions=False, harassment/threatening=False), category_scores=CategoryScores(harassment=0.002926743123680353, harassment_threatening=0.027081655338406563, hate=0.0012946990318596363, hate_threatening=0.0006243328680284321, self_harm=0.0021382884588092566, self_harm_instructions=1.3699214832740836e-05, self_harm_intent=0.001215252443216741, sexual=3.155004378641024e-05, sexual_minors=3.1688415447206353e-07, violence=0.7868497371673584, violence_graphic=0.0006388050387613475, self-harm=0.0021382884588092566, sexual/minors=3.1688415447206353e-07, hate/threatening=0.0006243328680284321, violence/graphic=0.0006388050387613475, self-harm/intent=0.001215252443216741, self-harm/instructions=1.3699214832740836e-05, harassment/threatening=0.027081655338406563), flagged=True)])\n",
      "This question has been flagged for malicious content and cannot be processed.\n",
      "Text extracted from the PDF...\n",
      "0.0\n",
      "The question is not related to the PDF and has been flagged, therefore cannot proceed. Please try a different question...\n",
      "Please try a different question...\n",
      "Exiting... Thank you for using the system.\n",
      "No question was preprocessed.\n"
     ]
    },
    {
     "ename": "TypeError",
     "evalue": "cannot unpack non-iterable NoneType object",
     "output_type": "error",
     "traceback": [
      "\u001b[0;31m---------------------------------------------------------------------------\u001b[0m",
      "\u001b[0;31mTypeError\u001b[0m                                 Traceback (most recent call last)",
      "Cell \u001b[0;32mIn[9], line 3\u001b[0m\n\u001b[1;32m      1\u001b[0m \u001b[38;5;66;03m# run main\u001b[39;00m\n\u001b[1;32m      2\u001b[0m \u001b[38;5;28;01mif\u001b[39;00m \u001b[38;5;18m__name__\u001b[39m \u001b[38;5;241m==\u001b[39m \u001b[38;5;124m\"\u001b[39m\u001b[38;5;124m__main__\u001b[39m\u001b[38;5;124m\"\u001b[39m:\n\u001b[0;32m----> 3\u001b[0m     main()\n",
      "Cell \u001b[0;32mIn[8], line 3\u001b[0m, in \u001b[0;36mmain\u001b[0;34m()\u001b[0m\n\u001b[1;32m      1\u001b[0m \u001b[38;5;28;01mdef\u001b[39;00m \u001b[38;5;21mmain\u001b[39m():\n\u001b[1;32m      2\u001b[0m     \u001b[38;5;66;03m# call process_user_question from intent_service notebook\u001b[39;00m\n\u001b[0;32m----> 3\u001b[0m     preprocessed_question, pdf_file_path, original_question \u001b[38;5;241m=\u001b[39m process_user_question()\n\u001b[1;32m      4\u001b[0m     \u001b[38;5;66;03m# call process_retrieval from information_retrieval_service notebook\u001b[39;00m\n\u001b[1;32m      5\u001b[0m     retrieved_raw_info \u001b[38;5;241m=\u001b[39m process_retrieval(preprocessed_question, pdf_file_path)\n",
      "\u001b[0;31mTypeError\u001b[0m: cannot unpack non-iterable NoneType object"
     ]
    }
   ],
   "source": [
    "# run main\n",
    "if __name__ == \"__main__\":\n",
    "    main()"
   ]
  },
  {
   "cell_type": "code",
   "execution_count": null,
   "metadata": {},
   "outputs": [],
   "source": []
  }
 ],
 "metadata": {
  "kernelspec": {
   "display_name": "Python 3",
   "language": "python",
   "name": "python3"
  },
  "language_info": {
   "codemirror_mode": {
    "name": "ipython",
    "version": 3
   },
   "file_extension": ".py",
   "mimetype": "text/x-python",
   "name": "python",
   "nbconvert_exporter": "python",
   "pygments_lexer": "ipython3",
   "version": "3.11.7"
  }
 },
 "nbformat": 4,
 "nbformat_minor": 2
}
