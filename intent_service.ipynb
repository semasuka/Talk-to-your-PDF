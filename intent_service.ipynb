{
 "cells": [
  {
   "cell_type": "code",
   "execution_count": 65,
   "metadata": {},
   "outputs": [],
   "source": [
    "import string, nltk, os, openai\n",
    "from autocorrect import Speller\n",
    "from nltk.corpus import stopwords\n",
    "from nltk.stem import PorterStemmer\n",
    "from nltk.tokenize import word_tokenize"
   ]
  },
  {
   "cell_type": "code",
   "execution_count": 66,
   "metadata": {},
   "outputs": [
    {
     "name": "stderr",
     "output_type": "stream",
     "text": [
      "[nltk_data] Downloading package punkt to\n",
      "[nltk_data]     /Users/sternsemasuka/nltk_data...\n",
      "[nltk_data]   Package punkt is already up-to-date!\n",
      "[nltk_data] Downloading package stopwords to\n",
      "[nltk_data]     /Users/sternsemasuka/nltk_data...\n",
      "[nltk_data]   Package stopwords is already up-to-date!\n",
      "[nltk_data] Downloading package averaged_perceptron_tagger to\n",
      "[nltk_data]     /Users/sternsemasuka/nltk_data...\n",
      "[nltk_data]   Package averaged_perceptron_tagger is already up-to-\n",
      "[nltk_data]       date!\n"
     ]
    },
    {
     "data": {
      "text/plain": [
       "True"
      ]
     },
     "execution_count": 66,
     "metadata": {},
     "output_type": "execute_result"
    }
   ],
   "source": [
    "nltk.download('punkt')\n",
    "nltk.download('stopwords')\n",
    "nltk.download('averaged_perceptron_tagger')"
   ]
  },
  {
   "cell_type": "code",
   "execution_count": 67,
   "metadata": {},
   "outputs": [],
   "source": [
    "class IntentService:\n",
    "    def __init__(self):\n",
    "        self.spell_checker = Speller()\n",
    "        self.stop_words = set(stopwords.words('english'))\n",
    "        self.stemmer = PorterStemmer()\n",
    "        self.nlp = spacy.load('en_core_web_sm')\n",
    "        openai.api_key = os.getenv(\"OPENAI_API_KEY\")\n",
    "\n",
    "    def preprocess_question(self, question):\n",
    "        # Lowercase\n",
    "        question = question.lower()\n",
    "        # Remove punctuation and special characters\n",
    "        question = question.translate(str.maketrans('', '', string.punctuation))\n",
    "        # Tokenization\n",
    "        tokens = word_tokenize(question)\n",
    "        # Stop words removal\n",
    "        tokens = [word for word in tokens if word not in self.stop_words]\n",
    "        # Stemming and Lemmatization\n",
    "        tokens = [self.stemmer.stem(word) for word in tokens]\n",
    "        tokens = [self.nlp(word)[0].lemma_ for word in tokens]\n",
    "        # Negation tracking, POS tagging, NER, and spelling correction\n",
    "        revised_tokens = []\n",
    "        doc = self.nlp(' '.join(tokens))\n",
    "        for token in doc:\n",
    "            # Correct spelling\n",
    "            corrected_word = self.spell_checker(token.text)\n",
    "            # Handle negation\n",
    "            if \"not_\" in token.dep_:\n",
    "                corrected_word = \"not_\" + corrected_word\n",
    "            # POS tagging and NER are included in the Spacy pipeline\n",
    "            revised_tokens.append(corrected_word)\n",
    "        # Rejoin tokens and trim spaces\n",
    "        question = ' '.join(revised_tokens).strip()\n",
    "        return question\n",
    "    \n",
    "    def detect_malicious_intent(self, question):\n",
    "        try: \n",
    "            response = openai.moderations.create(\n",
    "                input=question,\n",
    "                model=\"text-moderation-latest\"\n",
    "                )\n",
    "            # checking if it is flagged or not\n",
    "            is_flagged = response.results[0].flagged\n",
    "            if is_flagged:\n",
    "                return \"This question has been flagged for malicious content and cannot be processed.\"\n",
    "            else:\n",
    "                return \"No malicious intent detected.\"\n",
    "        except Exception as e:\n",
    "            print(f\"Error in moderation: {e}\")\n",
    "            return \"Unable to determine intent due to an error.\"\n",
    "\n"
   ]
  },
  {
   "cell_type": "code",
   "execution_count": 64,
   "metadata": {},
   "outputs": [
    {
     "name": "stdout",
     "output_type": "stream",
     "text": [
      "what impact ai healthcare\n",
      "No malicious intent detected.\n"
     ]
    }
   ],
   "source": [
    "# Example usage\n",
    "preprocessor = IntentService()\n",
    "sample_question = \"What's the impact of AI in Healthcare?\"\n",
    "processed_question = preprocessor.preprocess_question(sample_question)\n",
    "print(processed_question)\n",
    "final_output = preprocessor.detect_malicious_intent(processed_question)\n",
    "print(final_output)"
   ]
  }
 ],
 "metadata": {
  "kernelspec": {
   "display_name": "Python 3",
   "language": "python",
   "name": "python3"
  },
  "language_info": {
   "codemirror_mode": {
    "name": "ipython",
    "version": 3
   },
   "file_extension": ".py",
   "mimetype": "text/x-python",
   "name": "python",
   "nbconvert_exporter": "python",
   "pygments_lexer": "ipython3",
   "version": "3.11.7"
  }
 },
 "nbformat": 4,
 "nbformat_minor": 2
}
