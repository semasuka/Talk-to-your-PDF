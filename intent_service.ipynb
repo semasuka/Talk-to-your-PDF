{
 "cells": [
  {
   "cell_type": "code",
   "execution_count": 37,
   "metadata": {},
   "outputs": [],
   "source": [
    "import string, nltk, os, PyPDF2, openai, spacy\n",
    "from dotenv import load_dotenv\n",
    "from autocorrect import Speller\n",
    "from nltk.corpus import stopwords\n",
    "from nltk.stem import PorterStemmer\n",
    "from nltk.tokenize import word_tokenize\n",
    "from sklearn.feature_extraction.text import TfidfVectorizer\n",
    "from sklearn.metrics.pairwise import cosine_similarity"
   ]
  },
  {
   "cell_type": "code",
   "execution_count": 38,
   "metadata": {},
   "outputs": [
    {
     "name": "stderr",
     "output_type": "stream",
     "text": [
      "[nltk_data] Downloading package punkt to\n",
      "[nltk_data]     /Users/sternsemasuka/nltk_data...\n",
      "[nltk_data]   Package punkt is already up-to-date!\n",
      "[nltk_data] Downloading package stopwords to\n",
      "[nltk_data]     /Users/sternsemasuka/nltk_data...\n",
      "[nltk_data]   Package stopwords is already up-to-date!\n",
      "[nltk_data] Downloading package averaged_perceptron_tagger to\n",
      "[nltk_data]     /Users/sternsemasuka/nltk_data...\n",
      "[nltk_data]   Package averaged_perceptron_tagger is already up-to-\n",
      "[nltk_data]       date!\n"
     ]
    },
    {
     "data": {
      "text/plain": [
       "True"
      ]
     },
     "execution_count": 38,
     "metadata": {},
     "output_type": "execute_result"
    }
   ],
   "source": [
    "nltk.download('punkt')\n",
    "nltk.download('stopwords')\n",
    "nltk.download('averaged_perceptron_tagger')"
   ]
  },
  {
   "cell_type": "code",
   "execution_count": 39,
   "metadata": {},
   "outputs": [],
   "source": [
    "class IntentService:\n",
    "    def __init__(self):\n",
    "        # Load environment variables from .env file\n",
    "        load_dotenv()\n",
    "        openai.api_key = os.getenv(\"OPENAI_API_KEY\")\n",
    "        self.spell_checker = Speller()\n",
    "        self.stop_words = set(stopwords.words('english'))\n",
    "        self.stemmer = PorterStemmer()\n",
    "        self.nlp = spacy.load('en_core_web_sm')\n",
    "        \n",
    "\n",
    "    def preprocess_question(self, question):\n",
    "        # Lowercase\n",
    "        question = question.lower()\n",
    "        # Remove punctuation and special characters\n",
    "        question = question.translate(str.maketrans('', '', string.punctuation))\n",
    "        # Tokenization\n",
    "        tokens = word_tokenize(question)\n",
    "        # Stop words removal\n",
    "        tokens = [word for word in tokens if word not in self.stop_words]\n",
    "        # Stemming and Lemmatization\n",
    "        tokens = [self.stemmer.stem(word) for word in tokens]\n",
    "        tokens = [self.nlp(word)[0].lemma_ for word in tokens]\n",
    "        # Negation tracking, POS tagging, NER, and spelling correction\n",
    "        revised_tokens = []\n",
    "        doc = self.nlp(' '.join(tokens))\n",
    "        for token in doc:\n",
    "            # Correct spelling\n",
    "            corrected_word = self.spell_checker(token.text)\n",
    "            # Handle negation\n",
    "            if \"not_\" in token.dep_:\n",
    "                corrected_word = \"not_\" + corrected_word\n",
    "            # POS tagging and NER are included in the Spacy pipeline\n",
    "            revised_tokens.append(corrected_word)\n",
    "        # Rejoin tokens and trim spaces\n",
    "        question = ' '.join(revised_tokens).strip()\n",
    "        print(\"preprocessing done...\")\n",
    "        return question\n",
    "    \n",
    "    def detect_malicious_intent(self, question):\n",
    "        is_flagged = None\n",
    "        try:\n",
    "            # Calling the openai moderation model \n",
    "            response = openai.moderations.create(\n",
    "                input=question,\n",
    "                model=\"text-moderation-latest\"\n",
    "                )\n",
    "            # checking if it is flagged or not\n",
    "            is_flagged = response.results[0].flagged\n",
    "            if is_flagged:\n",
    "                print(\"This question has been flagged for malicious content and cannot be processed.\")\n",
    "            else:\n",
    "                print(\"No malicious intent detected.\")\n",
    "        except Exception as e:\n",
    "            print(f\"Error in moderation: {e} Unable to determine intent due to an error.\")\n",
    "        return is_flagged\n",
    "\n",
    "    def extract_text_from_pdf(self, pdf_path):\n",
    "        with open(pdf_path, 'rb') as file:\n",
    "            reader = PyPDF2.PdfFileReader(file)\n",
    "            text = ''\n",
    "            for page in range(reader.numPages):\n",
    "                text += reader.getPage(page).extractText()\n",
    "        return text\n",
    "    \n",
    "    def calculate_similarity(self, question, pdf_text):\n",
    "        is_similar = None\n",
    "        try:\n",
    "            # vectorization using Tfid\n",
    "            vectorizer = TfidfVectorizer()\n",
    "            tfidf = vectorizer.fit_transform([question, pdf_text])\n",
    "            cosine_similarity_num = cosine_similarity(tfidf[0:1], tfidf[1:2])[0][0]\n",
    "            print(\"Cosine similarity: \", cosine_similarity_num)\n",
    "            if cosine_similarity_num > 0.36:\n",
    "                is_similar = True\n",
    "                print(\"The question is related to the pdf\")\n",
    "                return is_similar\n",
    "            else:\n",
    "                is_similar = False\n",
    "                print(\"The question is not related to the pdf\")\n",
    "                return is_similar\n",
    "        except Exception as e:\n",
    "            print(f\"Error in similarity check: {e} Unable to determine the similarity due to an error.\")\n",
    "        return is_similar\n",
    "    def check_item_status(self,is_question_related, is_flagged):\n",
    "        match (is_question_related, is_flagged):\n",
    "            case (True, False):\n",
    "                return \"The item is question-related and not flagged.\"\n",
    "            case (False, True):\n",
    "                return \"The item is not question-related but flagged.\"\n",
    "            case (True, True):\n",
    "                return \"The item is question-related and flagged.\"\n",
    "            case (False, False):\n",
    "                return \"The item is neither question-related nor flagged.\""
   ]
  },
  {
   "cell_type": "code",
   "execution_count": 36,
   "metadata": {},
   "outputs": [
    {
     "ename": "NameError",
     "evalue": "name 'intent_service_processor' is not defined",
     "output_type": "error",
     "traceback": [
      "\u001b[0;31m---------------------------------------------------------------------------\u001b[0m",
      "\u001b[0;31mNameError\u001b[0m                                 Traceback (most recent call last)",
      "Cell \u001b[0;32mIn[36], line 1\u001b[0m\n\u001b[0;32m----> 1\u001b[0m preprocessed_question \u001b[38;5;241m=\u001b[39m intent_service_processor\u001b[38;5;241m.\u001b[39mpreprocess_question(input_question)\n\u001b[1;32m      2\u001b[0m \u001b[38;5;28mprint\u001b[39m(preprocessed_question)\n\u001b[1;32m      3\u001b[0m is_flagged \u001b[38;5;241m=\u001b[39m intent_service_processor\u001b[38;5;241m.\u001b[39mdetect_malicious_intent(preprocessed_question)\n",
      "\u001b[0;31mNameError\u001b[0m: name 'intent_service_processor' is not defined"
     ]
    }
   ],
   "source": [
    "preprocessed_question = intent_service_processor.preprocess_question(input_question)\n",
    "print(preprocessed_question)\n",
    "is_flagged = intent_service_processor.detect_malicious_intent(preprocessed_question)\n",
    "pdf_text_extracted = intent_service_processor.extract_text_from_pdf(pdf_file_path)\n",
    "is_question_related = intent_service_processor.calculate_similarity(input_question, pdf_text_extracted)\n",
    "final_result = intent_service_processor.check_item_status(is_question_related, is_flagged)\n",
    "final_result"
   ]
  },
  {
   "cell_type": "code",
   "execution_count": null,
   "metadata": {},
   "outputs": [],
   "source": []
  },
  {
   "cell_type": "code",
   "execution_count": null,
   "metadata": {},
   "outputs": [],
   "source": []
  }
 ],
 "metadata": {
  "kernelspec": {
   "display_name": "Python 3",
   "language": "python",
   "name": "python3"
  },
  "language_info": {
   "codemirror_mode": {
    "name": "ipython",
    "version": 3
   },
   "file_extension": ".py",
   "mimetype": "text/x-python",
   "name": "python",
   "nbconvert_exporter": "python",
   "pygments_lexer": "ipython3",
   "version": "3.11.7"
  }
 },
 "nbformat": 4,
 "nbformat_minor": 2
}
