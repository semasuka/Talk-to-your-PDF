{
 "cells": [
  {
   "cell_type": "code",
   "execution_count": 7,
   "metadata": {},
   "outputs": [],
   "source": [
    "import import_ipynb\n",
    "from pre_run_service import process_pre_run\n",
    "from intent_service import process_user_question\n",
    "from information_retrieval_service import process_retrieval\n",
    "from response_service import process_response"
   ]
  },
  {
   "cell_type": "code",
   "execution_count": 8,
   "metadata": {},
   "outputs": [],
   "source": [
    "def main():\n",
    "    # Define the directory path containing PDFs\n",
    "    DIRECTORY_PATH = '/Users/sternsemasuka/Desktop/ML/Project/Talk-to-your-PDF/pdf_folder/'\n",
    "    \n",
    "    # Start the pre-run service and proceed only if it returns True\n",
    "    if process_pre_run(DIRECTORY_PATH):\n",
    "        # Retrieve the vectorized question and original question from the intent service\n",
    "        vectorized_question, original_question = process_user_question()\n",
    "\n",
    "        # Retrieve information based on the vectorized question\n",
    "        retrieved_info = process_retrieval(vectorized_question)\n",
    "\n",
    "        # Generate the final response using the retrieved information\n",
    "        final_response = process_response(original_question, retrieved_info)\n",
    "\n",
    "        # Print the final response with start lines around the question and answer\n",
    "        print(\"\\n\") \n",
    "        print(\"********** Question **********\")  # Start line for the question\n",
    "        print(\"\\n\") \n",
    "        print(f\"{original_question}\")  # The question itself\n",
    "        print(\"\\n\") \n",
    "        print(\"********** Answer **********\")  # Start line for the answer\n",
    "        print(\"\\n\") \n",
    "        print(f\"{final_response}\")  # The answer\n",
    "\n",
    "    else:\n",
    "        print(\"Pre-run service failed. Please check the setup and try again.\")\n"
   ]
  },
  {
   "cell_type": "code",
   "execution_count": 9,
   "metadata": {},
   "outputs": [
    {
     "name": "stdout",
     "output_type": "stream",
     "text": [
      "1st check:\n",
      "No malicious intent detected. I can proceed with checking if it is related to your PDF\n",
      "2nd check:\n",
      "Question is related to the PDF content. I can proceed now with an answer to your question...\n",
      "\n",
      "\n",
      "********** Question **********\n",
      "\n",
      "\n",
      "What is the main objective of Canada's national digital talent strategy as outlined in the PDF?\n",
      "\n",
      "\n",
      "********** Answer **********\n",
      "\n",
      "\n",
      "The main objective of Canada's national digital talent strategy, as outlined in the document Digital Talent: Road to 2020 and Beyond, is to build Canada’s digital talent base. This strategy aims to position Canada’s talent as a comparative advantage in the global and rapidly evolving digital landscape by targeting both the \"vertical\" Information and Communication Technology (ICT) industry and the \"horizontal\" adopters of ICT and digital technologies. This involves ensuring a strong, vibrant digitally-savvy workforce to support and reinforce the digital strategies developed at provincial levels or by associations, and to prioritize these efforts at a national level.\n"
     ]
    }
   ],
   "source": [
    "# Ensure this script runs as the main program\n",
    "if __name__ == \"__main__\":\n",
    "    main()"
   ]
  },
  {
   "cell_type": "code",
   "execution_count": null,
   "metadata": {},
   "outputs": [],
   "source": []
  }
 ],
 "metadata": {
  "kernelspec": {
   "display_name": "Python 3",
   "language": "python",
   "name": "python3"
  },
  "language_info": {
   "codemirror_mode": {
    "name": "ipython",
    "version": 3
   },
   "file_extension": ".py",
   "mimetype": "text/x-python",
   "name": "python",
   "nbconvert_exporter": "python",
   "pygments_lexer": "ipython3",
   "version": "3.11.7"
  }
 },
 "nbformat": 4,
 "nbformat_minor": 2
}
