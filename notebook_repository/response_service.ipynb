{
 "cells": [
  {
   "cell_type": "code",
   "execution_count": 34,
   "metadata": {},
   "outputs": [],
   "source": [
    "import openai, os\n",
    "from dotenv import load_dotenv"
   ]
  },
  {
   "cell_type": "code",
   "execution_count": 43,
   "metadata": {},
   "outputs": [],
   "source": [
    "class ResponseService:\n",
    "    \"\"\"Handles generating responses based on user questions and provided facts.\"\"\"\n",
    "    \n",
    "    def __init__(self):\n",
    "        load_dotenv()\n",
    "        openai.api_key = os.getenv(\"OPENAI_API_KEY\")\n",
    "\n",
    "    def generate_response(self, question, retrieved_info):\n",
    "        \"\"\"Generates a response from OpenAI's ChatCompletion based on facts and a user question.\"\"\"\n",
    "        # call the openai ChatCompletion endpoint\n",
    "        response = openai.chat.completions.create(\n",
    "        model=\"gpt-4-turbo-preview\",\n",
    "        messages=[\n",
    "                {\"role\": \"user\", \"content\": 'Based on the FACTS, give a concise and detailed answer to the QUESTION.'+ \n",
    "                f'QUESTION: {question}. FACTS: {retrieved_info}'}\n",
    "            ]\n",
    "        )\n",
    "\n",
    "        if response.choices and response.choices:\n",
    "            return response.choices[0].message.content\n",
    "        print(\"No content available.\")"
   ]
  },
  {
   "cell_type": "code",
   "execution_count": null,
   "metadata": {},
   "outputs": [],
   "source": [
    "def process_response(question, retrieved_info):\n",
    "    response_service_processor = ResponseService()\n",
    "    final_response = response_service_processor.generate_response(question, retrieved_info)\n",
    "    return final_response"
   ]
  }
 ],
 "metadata": {
  "kernelspec": {
   "display_name": "Python 3",
   "language": "python",
   "name": "python3"
  },
  "language_info": {
   "codemirror_mode": {
    "name": "ipython",
    "version": 3
   },
   "file_extension": ".py",
   "mimetype": "text/x-python",
   "name": "python",
   "nbconvert_exporter": "python",
   "pygments_lexer": "ipython3",
   "version": "3.11.7"
  }
 },
 "nbformat": 4,
 "nbformat_minor": 2
}
