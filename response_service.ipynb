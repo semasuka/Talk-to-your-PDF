{
 "cells": [
  {
   "cell_type": "code",
   "execution_count": 34,
   "metadata": {},
   "outputs": [],
   "source": [
    "import openai, os\n",
    "from dotenv import load_dotenv"
   ]
  },
  {
   "cell_type": "code",
   "execution_count": 43,
   "metadata": {},
   "outputs": [],
   "source": [
    "class ResponseService():\n",
    "    def __init__(self):\n",
    "        # Load environment variables from .env file\n",
    "        load_dotenv()\n",
    "        openai.api_key = os.getenv(\"OPENAI_API_KEY\")\n",
    "\n",
    "    \n",
    "    def generate_response(self, user_question, facts):\n",
    "        # call the openai ChatCompletion endpoint\n",
    "        response = openai.chat.completions.create(\n",
    "        model=\"gpt-4-turbo-preview\",\n",
    "        messages=[\n",
    "                {\"role\": \"user\", \"content\": 'Based on the FACTS, give a concise and detailed answer to the QUESTION.'+ \n",
    "                f'QUESTION: {user_question}. FACTS: {facts}'}\n",
    "            ]\n",
    "        )\n",
    "\n",
    "        # Check if the response has choices and the list is not empty\n",
    "        if response.choices and len(response.choices) > 0:\n",
    "            # Access the first choice's message attribute\n",
    "            message = response.choices[0].message\n",
    "            # Extract the content from the message\n",
    "            content = message.content\n",
    "            return content\n",
    "        else:\n",
    "            # Return a default message or handle the absence of content appropriately\n",
    "            return \"No content available.\"\n"
   ]
  },
  {
   "cell_type": "code",
   "execution_count": null,
   "metadata": {},
   "outputs": [],
   "source": [
    "def process_respond(facts, user_question):\n",
    "    response_service_processor = ResponseService()\n",
    "    final_response = response_service_processor.generate_response(user_question, facts)\n",
    "    return final_response"
   ]
  }
 ],
 "metadata": {
  "kernelspec": {
   "display_name": "Python 3",
   "language": "python",
   "name": "python3"
  },
  "language_info": {
   "codemirror_mode": {
    "name": "ipython",
    "version": 3
   },
   "file_extension": ".py",
   "mimetype": "text/x-python",
   "name": "python",
   "nbconvert_exporter": "python",
   "pygments_lexer": "ipython3",
   "version": "3.11.7"
  }
 },
 "nbformat": 4,
 "nbformat_minor": 2
}
