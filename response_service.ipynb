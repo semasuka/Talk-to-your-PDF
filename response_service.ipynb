{
 "cells": [
  {
   "cell_type": "code",
   "execution_count": 34,
   "metadata": {},
   "outputs": [],
   "source": [
    "import openai, os"
   ]
  },
  {
   "cell_type": "code",
   "execution_count": 43,
   "metadata": {},
   "outputs": [],
   "source": [
    "class ResponseService():\n",
    "    def __init__(self):\n",
    "        openai.api_key = os.getenv(\"OPENAI_API_KEY\")\n",
    "        pass\n",
    "    \n",
    "    def generate_response(self, user_question, facts):\n",
    "        # call the openai ChatCompletion endpoint\n",
    "        response = openai.chat.completions.create(\n",
    "        model=\"gpt-4-turbo-preview\",\n",
    "        messages=[\n",
    "                {\"role\": \"user\", \"content\": 'Based on the FACTS, give a concise and detailed answer to the QUESTION.'+ \n",
    "                f'QUESTION: {user_question}. FACTS: {facts}'}\n",
    "            ]\n",
    "        )\n",
    "\n",
    "        # Check if the response has choices and the list is not empty\n",
    "        if response.choices and len(response.choices) > 0:\n",
    "            # Access the first choice's message attribute\n",
    "            message = response.choices[0].message\n",
    "            # Extract the content from the message\n",
    "            content = message.content\n",
    "            return content\n",
    "        else:\n",
    "            # Return a default message or handle the absence of content appropriately\n",
    "            return \"No content available.\"\n"
   ]
  },
  {
   "cell_type": "code",
   "execution_count": 44,
   "metadata": {},
   "outputs": [],
   "source": [
    "facts = \"DIGITAL TALENTROAD  TO  2020 AND BEYONDA NATIONAL STRATEGY TO DEVELOP CANADA’S TALENT IN A GLOBAL DIGITAL ECONOMYINFORMATION AND COMMUNICATIONS TECHNOLOGY COUNCIL (ICTC) | www.ictc-ctic.ca\\x0cTABLE  OF CONTENTS PREFACEACKNOWLEDGEMENTSEXECUTIVE SUMMARYINTRODUCTIONA SNAPSHOT OF CANADA’S DIGITAL ECONOMYTHEMES, TRENDS, CHALLENGES AND OPPORTUNITIES DIGITAL ADOPTIONEDUCATIONS AND SKILLSTALENT SUPPLYTHE CASE FOR A NATIONAL DIGITAL TALENT STRATEGYBENEFITS TO THE ECONOMY  BENEFITS TO SOCIETY  A NATIONAL DIGITAL TALENT STRATEGY1. NURTURING A STRONG YOUTH TALENT PIPELINE2. LEVERAGING CANADA’S DIVERSE TALENT3. SUPPORTING WORKFORCE UPSKILLING TO ENHANCE DIGITAL ADOPTION4. ATTRACTING AND RETAINING GLOBAL DIGITAL TALENT5. STRENGTHENING DIGITAL LITERACY AND DIGITAL SKILLS FOR CANADIANS6. FOSTERING DIGITAL ENTREPRENEURSHIP7. BUILDING LABOUR MOBILITY PATHWAYS TO FILL HIGH DEMAND OCCUPATIONSCONCLUSION…THE ROUTE TO 2020 AND BEYOND SUMMARY OF RECOMMENDATION\"\n",
    "user_question = \"main object canada nation digit talent strategy outline pdf\""
   ]
  },
  {
   "cell_type": "code",
   "execution_count": 45,
   "metadata": {},
   "outputs": [],
   "source": [
    "response_service_processor = ResponseService()\n",
    "final_response = response_service_processor.generate_response(user_question, facts)"
   ]
  },
  {
   "cell_type": "code",
   "execution_count": 46,
   "metadata": {},
   "outputs": [
    {
     "data": {
      "text/plain": [
       "'The main objective of Canada\\'s National Digital Talent Strategy, as outlined in the \"Digital Talent Road to 2020 and Beyond\" document, is to develop Canada\\'s talent in the global digital economy through a comprehensive approach that includes nurturing a strong youth talent pipeline, leveraging Canada\\'s diverse talent, supporting workforce upskilling, attracting and retaining global digital talent, strengthening digital literacy and skills among Canadians, fostering digital entrepreneurship, and building labor mobility pathways to fill high-demand occupations. This strategy aims to benefit the economy and society by ensuring that Canada remains competitive in the evolving digital landscape.'"
      ]
     },
     "execution_count": 46,
     "metadata": {},
     "output_type": "execute_result"
    }
   ],
   "source": [
    "final_response"
   ]
  },
  {
   "cell_type": "markdown",
   "metadata": {},
   "source": [
    "'The main objective of Canada\\'s National Digital Talent Strategy, as outlined in the \"Digital Talent Road to 2020 and Beyond\" document, is to develop Canada\\'s talent in the global digital economy through a comprehensive approach that includes nurturing a strong youth talent pipeline, leveraging Canada\\'s diverse talent, supporting workforce upskilling, attracting and retaining global digital talent, strengthening digital literacy and skills among Canadians, fostering digital entrepreneurship, and building labor mobility pathways to fill high-demand occupations. This strategy aims to benefit the economy and society by ensuring that Canada remains competitive in the evolving digital landscape.'"
   ]
  },
  {
   "cell_type": "code",
   "execution_count": null,
   "metadata": {},
   "outputs": [],
   "source": []
  }
 ],
 "metadata": {
  "kernelspec": {
   "display_name": "Python 3",
   "language": "python",
   "name": "python3"
  },
  "language_info": {
   "codemirror_mode": {
    "name": "ipython",
    "version": 3
   },
   "file_extension": ".py",
   "mimetype": "text/x-python",
   "name": "python",
   "nbconvert_exporter": "python",
   "pygments_lexer": "ipython3",
   "version": "3.11.7"
  }
 },
 "nbformat": 4,
 "nbformat_minor": 2
}
